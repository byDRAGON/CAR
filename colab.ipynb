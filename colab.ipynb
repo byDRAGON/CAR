{
  "cells": [
    {
      "cell_type": "markdown",
      "metadata": {
        "id": "view-in-github",
        "colab_type": "text"
      },
      "source": [
        "<a href=\"https://colab.research.google.com/github/byDRAGON/CAR/blob/main/colab.ipynb\" target=\"_parent\"><img src=\"https://colab.research.google.com/assets/colab-badge.svg\" alt=\"Open In Colab\"/></a>"
      ]
    },
    {
      "cell_type": "markdown",
      "metadata": {
        "id": "ut_EcJYGGvzG"
      },
      "source": [
        "# SICAR - Colab"
      ]
    },
    {
      "cell_type": "markdown",
      "metadata": {
        "id": "f4q5YavVG26M"
      },
      "source": [
        "[Optional] To ensure permanent file storage in your Google Drive account, you can connect it to this Colab notebook. By executing the following code snippet, your Google Drive will be mounted and accessible for saving and retrieving files:\n"
      ]
    },
    {
      "cell_type": "code",
      "execution_count": 15,
      "metadata": {
        "colab": {
          "base_uri": "https://localhost:8080/"
        },
        "id": "SewHp3K6wrri",
        "outputId": "0121f76d-52f3-4859-aa9f-edc1ff14e2fa"
      },
      "outputs": [
        {
          "output_type": "stream",
          "name": "stdout",
          "text": [
            "Drive already mounted at /content/drive; to attempt to forcibly remount, call drive.mount(\"/content/drive\", force_remount=True).\n"
          ]
        }
      ],
      "source": [
        "from google.colab import drive\n",
        "drive.mount('/content/drive')"
      ]
    },
    {
      "cell_type": "markdown",
      "metadata": {
        "id": "7hGN3FJHzWEr"
      },
      "source": [
        "## Install SICAR package\n",
        "\n",
        "To install the SICAR package and the Tesseract OCR engine in your Colab notebook, execute the following commands:"
      ]
    },
    {
      "cell_type": "code",
      "execution_count": 16,
      "metadata": {
        "colab": {
          "base_uri": "https://localhost:8080/"
        },
        "id": "pUUHpgV3pIsz",
        "outputId": "e508700d-fc22-4fc3-d57e-78daff2b3878"
      },
      "outputs": [
        {
          "output_type": "stream",
          "name": "stdout",
          "text": [
            "Collecting git+https://github.com/urbanogilson/SICAR\n",
            "  Cloning https://github.com/urbanogilson/SICAR to /tmp/pip-req-build-ad_vqgrn\n",
            "  Running command git clone --filter=blob:none --quiet https://github.com/urbanogilson/SICAR /tmp/pip-req-build-ad_vqgrn\n",
            "  Resolved https://github.com/urbanogilson/SICAR to commit 155dfdf2e1ec246c8a0e0366d39687d7459f2695\n",
            "  Installing build dependencies ... \u001b[?25l\u001b[?25hdone\n",
            "  Getting requirements to build wheel ... \u001b[?25l\u001b[?25hdone\n",
            "  Preparing metadata (pyproject.toml) ... \u001b[?25l\u001b[?25hdone\n",
            "Requirement already satisfied: httpx>=0.27.0 in /usr/local/lib/python3.10/dist-packages (from SICAR==0.7.3) (0.27.2)\n",
            "Requirement already satisfied: urllib3>=1.26.15 in /usr/local/lib/python3.10/dist-packages (from SICAR==0.7.3) (2.2.3)\n",
            "Requirement already satisfied: pytesseract==0.3.10 in /usr/local/lib/python3.10/dist-packages (from SICAR==0.7.3) (0.3.10)\n",
            "Requirement already satisfied: opencv-python<4.10,>=4.6.0.66 in /usr/local/lib/python3.10/dist-packages (from SICAR==0.7.3) (4.9.0.80)\n",
            "Requirement already satisfied: numpy<2,>=1.22.4 in /usr/local/lib/python3.10/dist-packages (from SICAR==0.7.3) (1.26.4)\n",
            "Requirement already satisfied: tqdm>=4.65.0 in /usr/local/lib/python3.10/dist-packages (from SICAR==0.7.3) (4.66.6)\n",
            "Requirement already satisfied: matplotlib>=3.7.1 in /usr/local/lib/python3.10/dist-packages (from SICAR==0.7.3) (3.8.0)\n",
            "Requirement already satisfied: beautifulsoup4<4.20.0,>=4.0.0 in /usr/local/lib/python3.10/dist-packages (from SICAR==0.7.3) (4.12.3)\n",
            "Requirement already satisfied: packaging>=21.3 in /usr/local/lib/python3.10/dist-packages (from pytesseract==0.3.10->SICAR==0.7.3) (24.1)\n",
            "Requirement already satisfied: Pillow>=8.0.0 in /usr/local/lib/python3.10/dist-packages (from pytesseract==0.3.10->SICAR==0.7.3) (10.4.0)\n",
            "Requirement already satisfied: soupsieve>1.2 in /usr/local/lib/python3.10/dist-packages (from beautifulsoup4<4.20.0,>=4.0.0->SICAR==0.7.3) (2.6)\n",
            "Requirement already satisfied: anyio in /usr/local/lib/python3.10/dist-packages (from httpx>=0.27.0->SICAR==0.7.3) (3.7.1)\n",
            "Requirement already satisfied: certifi in /usr/local/lib/python3.10/dist-packages (from httpx>=0.27.0->SICAR==0.7.3) (2024.8.30)\n",
            "Requirement already satisfied: httpcore==1.* in /usr/local/lib/python3.10/dist-packages (from httpx>=0.27.0->SICAR==0.7.3) (1.0.6)\n",
            "Requirement already satisfied: idna in /usr/local/lib/python3.10/dist-packages (from httpx>=0.27.0->SICAR==0.7.3) (3.10)\n",
            "Requirement already satisfied: sniffio in /usr/local/lib/python3.10/dist-packages (from httpx>=0.27.0->SICAR==0.7.3) (1.3.1)\n",
            "Requirement already satisfied: h11<0.15,>=0.13 in /usr/local/lib/python3.10/dist-packages (from httpcore==1.*->httpx>=0.27.0->SICAR==0.7.3) (0.14.0)\n",
            "Requirement already satisfied: contourpy>=1.0.1 in /usr/local/lib/python3.10/dist-packages (from matplotlib>=3.7.1->SICAR==0.7.3) (1.3.0)\n",
            "Requirement already satisfied: cycler>=0.10 in /usr/local/lib/python3.10/dist-packages (from matplotlib>=3.7.1->SICAR==0.7.3) (0.12.1)\n",
            "Requirement already satisfied: fonttools>=4.22.0 in /usr/local/lib/python3.10/dist-packages (from matplotlib>=3.7.1->SICAR==0.7.3) (4.54.1)\n",
            "Requirement already satisfied: kiwisolver>=1.0.1 in /usr/local/lib/python3.10/dist-packages (from matplotlib>=3.7.1->SICAR==0.7.3) (1.4.7)\n",
            "Requirement already satisfied: pyparsing>=2.3.1 in /usr/local/lib/python3.10/dist-packages (from matplotlib>=3.7.1->SICAR==0.7.3) (3.2.0)\n",
            "Requirement already satisfied: python-dateutil>=2.7 in /usr/local/lib/python3.10/dist-packages (from matplotlib>=3.7.1->SICAR==0.7.3) (2.8.2)\n",
            "Requirement already satisfied: six>=1.5 in /usr/local/lib/python3.10/dist-packages (from python-dateutil>=2.7->matplotlib>=3.7.1->SICAR==0.7.3) (1.16.0)\n",
            "Requirement already satisfied: exceptiongroup in /usr/local/lib/python3.10/dist-packages (from anyio->httpx>=0.27.0->SICAR==0.7.3) (1.2.2)\n",
            "Reading package lists... Done\n",
            "Building dependency tree... Done\n",
            "Reading state information... Done\n",
            "tesseract-ocr is already the newest version (4.1.1-2.1build1).\n",
            "0 upgraded, 0 newly installed, 0 to remove and 49 not upgraded.\n"
          ]
        }
      ],
      "source": [
        "!pip install git+https://github.com/urbanogilson/SICAR\n",
        "!sudo apt install tesseract-ocr -y"
      ]
    },
    {
      "cell_type": "markdown",
      "metadata": {
        "id": "Nz3QGQ7EewXQ"
      },
      "source": [
        "## Usage"
      ]
    },
    {
      "cell_type": "code",
      "execution_count": 17,
      "metadata": {
        "id": "0SiOtCnby3TY"
      },
      "outputs": [],
      "source": [
        "from SICAR import Sicar, Polygon, State"
      ]
    },
    {
      "cell_type": "code",
      "execution_count": 18,
      "metadata": {
        "id": "mh1l468ry2pk"
      },
      "outputs": [],
      "source": [
        "# Create an instance of the Sicar class\n",
        "car = Sicar()"
      ]
    },
    {
      "cell_type": "markdown",
      "metadata": {
        "id": "dQbnLpdgl7YX"
      },
      "source": [
        "### Get release dates for each state"
      ]
    },
    {
      "cell_type": "code",
      "execution_count": 19,
      "metadata": {
        "id": "OVaHjFwBl7YX",
        "outputId": "6b641cc1-f423-4943-9626-e289bf475efe",
        "colab": {
          "base_uri": "https://localhost:8080/"
        }
      },
      "outputs": [
        {
          "output_type": "stream",
          "name": "stdout",
          "text": [
            "Release date for RR is: 03/10/2024\n"
          ]
        }
      ],
      "source": [
        "# Get release dates\n",
        "release_dates = car.get_release_dates()\n",
        "# get a single state value\n",
        "print(f\"Release date for RR is: {release_dates.get(State.RR)}\")\n",
        "\n",
        "# print(f\"Release date for RR is: {release_dates.get('RR')}\") # Also valid to use string 'RR'"
      ]
    },
    {
      "cell_type": "markdown",
      "metadata": {
        "id": "UOPTmr7J1JDy"
      },
      "source": [
        "### Download state (Polygon)"
      ]
    },
    {
      "cell_type": "code",
      "execution_count": 27,
      "metadata": {
        "colab": {
          "base_uri": "https://localhost:8080/"
        },
        "id": "TgGAFvbG0RME",
        "outputId": "e8419138-7813-4c4f-a311-e2ccd5bd978b"
      },
      "outputs": [
        {
          "output_type": "stream",
          "name": "stderr",
          "text": [
            "Downloading polygon 'APPS' for state 'RR': 100%|██████████| 194M/194M [00:43<00:00, 4.52MiB/s]\n"
          ]
        }
      ],
      "source": [
        "from SICAR.sicar import Sicar, State, Polygon\n",
        "import httpx\n",
        "import time\n",
        "from typing import Dict\n",
        "\n",
        "# ... (Previous code remains the same) ...\n",
        "\n",
        "def download_state_with_retry(car_instance: Sicar, state: State, polygon: Polygon, folder: str, tries: int = 3, retry_delay: int = 5, **kwargs) -> bool:\n",
        "    \"\"\"\n",
        "    Downloads state data with retry mechanism.\n",
        "\n",
        "    Args:\n",
        "        car_instance: The Sicar instance.\n",
        "        state: The state to download.\n",
        "        polygon: The polygon to download.\n",
        "        folder: The folder to save the downloaded data.\n",
        "        tries: The maximum number of retries.\n",
        "        retry_delay: The delay in seconds between retries.\n",
        "        **kwargs: Additional keyword arguments for download_state.\n",
        "\n",
        "    Returns:\n",
        "        True if the download was successful, False otherwise.\n",
        "    \"\"\"\n",
        "    for attempt in range(tries):\n",
        "        try:\n",
        "            result = car_instance.download_state(state=state, polygon=polygon, folder=folder, **kwargs)\n",
        "            if result:  # Check if download was successful\n",
        "                return True\n",
        "            else:\n",
        "                print(f\"Attempt {attempt + 1} failed. Retrying in {retry_delay} seconds...\")\n",
        "                time.sleep(retry_delay)\n",
        "        except httpx.ReadTimeout:\n",
        "            print(f\"Attempt {attempt + 1} failed with ReadTimeout. Retrying in {retry_delay} seconds...\")\n",
        "            time.sleep(retry_delay)\n",
        "    print(f\"Failed to download state after {tries} attempts.\")\n",
        "    return False\n",
        "\n",
        "# Download with retry mechanism\n",
        "result = download_state_with_retry(car, state=State.RR, polygon=Polygon.APPS, folder='drive/MyDrive/SICAR/RR', tries=3)\n",
        "# Added tries for retrying in case of timeout"
      ]
    },
    {
      "cell_type": "markdown",
      "metadata": {
        "id": "wxVwtiTkl7YY"
      },
      "source": [
        "### Polygons"
      ]
    },
    {
      "cell_type": "code",
      "execution_count": null,
      "metadata": {
        "id": "rIwGw8uel7YY",
        "outputId": "c81c9ca4-0660-4637-ea97-5c5badfa4fdf"
      },
      "outputs": [
        {
          "name": "stdout",
          "output_type": "stream",
          "text": [
            "Help on class Polygon in module SICAR.polygon:\n",
            "\n",
            "class Polygon(builtins.str, enum.Enum)\n",
            " |  Polygon(value, names=None, *, module=None, qualname=None, type=None, start=1)\n",
            " |  \n",
            " |  Enumeration representing Sicar polygons.\n",
            " |  \n",
            " |  Options:\n",
            " |      - AREA_PROPERTY: Perímetros dos imóveis (Property perimeters)\n",
            " |      - APPS: Área de Preservação Permanente (Permanent preservation area)\n",
            " |      - NATIVE_VEGETATION: Remanescente de Vegetação Nativa (Native Vegetation Remnants)\n",
            " |      - CONSOLIDATED_AREA: Área Consolidada (Consolidated Area)\n",
            " |      - AREA_FALL: Área de Pousio (Fallow Area)\n",
            " |      - HYDROGRAPHY: Hidrografia (Hydrography)\n",
            " |      - RESTRICTED_USE: Uso Restrito (Restricted Use)\n",
            " |      - ADMINISTRATIVE_SERVICE: Servidão Administrativa (Administrative Servitude)\n",
            " |      - LEGAL_RESERVE: Reserva Legal (Legal reserve)\n",
            " |  \n",
            " |  Method resolution order:\n",
            " |      Polygon\n",
            " |      builtins.str\n",
            " |      enum.Enum\n",
            " |      builtins.object\n",
            " |  \n",
            " |  Data and other attributes defined here:\n",
            " |  \n",
            " |  ADMINISTRATIVE_SERVICE = <Polygon.ADMINISTRATIVE_SERVICE: 'SERVIDAO_AD...\n",
            " |  \n",
            " |  APPS = <Polygon.APPS: 'APPS'>\n",
            " |  \n",
            " |  AREA_FALL = <Polygon.AREA_FALL: 'AREA_POUSIO'>\n",
            " |  \n",
            " |  AREA_PROPERTY = <Polygon.AREA_PROPERTY: 'AREA_IMOVEL'>\n",
            " |  \n",
            " |  CONSOLIDATED_AREA = <Polygon.CONSOLIDATED_AREA: 'AREA_CONSOLIDADA'>\n",
            " |  \n",
            " |  HYDROGRAPHY = <Polygon.HYDROGRAPHY: 'HIDROGRAFIA'>\n",
            " |  \n",
            " |  LEGAL_RESERVE = <Polygon.LEGAL_RESERVE: 'RESERVA_LEGAL'>\n",
            " |  \n",
            " |  NATIVE_VEGETATION = <Polygon.NATIVE_VEGETATION: 'VEGETACAO_NATIVA'>\n",
            " |  \n",
            " |  RESTRICTED_USE = <Polygon.RESTRICTED_USE: 'USO_RESTRITO'>\n",
            " |  \n",
            " |  ----------------------------------------------------------------------\n",
            " |  Data descriptors inherited from enum.Enum:\n",
            " |  \n",
            " |  name\n",
            " |      The name of the Enum member.\n",
            " |  \n",
            " |  value\n",
            " |      The value of the Enum member.\n",
            " |  \n",
            " |  ----------------------------------------------------------------------\n",
            " |  Readonly properties inherited from enum.EnumMeta:\n",
            " |  \n",
            " |  __members__\n",
            " |      Returns a mapping of member name->value.\n",
            " |      \n",
            " |      This mapping lists all enum members, including aliases. Note that this\n",
            " |      is a read-only view of the internal mapping.\n",
            "\n"
          ]
        }
      ],
      "source": [
        "help(Polygon)"
      ]
    },
    {
      "cell_type": "markdown",
      "metadata": {
        "id": "AlXRX16Ol7YY"
      },
      "source": [
        "### State"
      ]
    },
    {
      "cell_type": "code",
      "execution_count": null,
      "metadata": {
        "id": "i5wrFZ2Sl7YY",
        "outputId": "39a7d950-26e9-479f-db78-6fe046bd5d25"
      },
      "outputs": [
        {
          "name": "stdout",
          "output_type": "stream",
          "text": [
            "Help on class State in module SICAR.state:\n",
            "\n",
            "class State(builtins.str, enum.Enum)\n",
            " |  State(value, names=None, *, module=None, qualname=None, type=None, start=1)\n",
            " |  \n",
            " |  Enumeration representing states in Brazil.\n",
            " |  \n",
            " |  Options:\n",
            " |      - AC: Acre\n",
            " |      - AL: Alagoas\n",
            " |      - AM: Amazonas\n",
            " |      - AP: Amapá\n",
            " |      - BA: Bahia\n",
            " |      - CE: Ceará\n",
            " |      - DF: Distrito Federal\n",
            " |      - ES: Espírito Santo\n",
            " |      - GO: Goiás\n",
            " |      - MA: Maranhão\n",
            " |      - MG: Minas Gerais\n",
            " |      - MS: Mato Grosso do Sul\n",
            " |      - MT: Mato Grosso\n",
            " |      - PA: Pará\n",
            " |      - PB: Paraíba\n",
            " |      - PE: Pernambuco\n",
            " |      - PI: Piauí\n",
            " |      - PR: Paraná\n",
            " |      - RJ: Rio de Janeiro\n",
            " |      - RN: Rio Grande do Norte\n",
            " |      - RO: Rondônia\n",
            " |      - RR: Roraima\n",
            " |      - RS: Rio Grande do Sul\n",
            " |      - SC: Santa Catarina\n",
            " |      - SE: Sergipe\n",
            " |      - SP: São Paulo\n",
            " |      - TO: Tocantins\n",
            " |  \n",
            " |  Method resolution order:\n",
            " |      State\n",
            " |      builtins.str\n",
            " |      enum.Enum\n",
            " |      builtins.object\n",
            " |  \n",
            " |  Data and other attributes defined here:\n",
            " |  \n",
            " |  AC = <State.AC: 'AC'>\n",
            " |  \n",
            " |  AL = <State.AL: 'AL'>\n",
            " |  \n",
            " |  AM = <State.AM: 'AM'>\n",
            " |  \n",
            " |  AP = <State.AP: 'AP'>\n",
            " |  \n",
            " |  BA = <State.BA: 'BA'>\n",
            " |  \n",
            " |  CE = <State.CE: 'CE'>\n",
            " |  \n",
            " |  DF = <State.DF: 'DF'>\n",
            " |  \n",
            " |  ES = <State.ES: 'ES'>\n",
            " |  \n",
            " |  GO = <State.GO: 'GO'>\n",
            " |  \n",
            " |  MA = <State.MA: 'MA'>\n",
            " |  \n",
            " |  MG = <State.MG: 'MG'>\n",
            " |  \n",
            " |  MS = <State.MS: 'MS'>\n",
            " |  \n",
            " |  MT = <State.MT: 'MT'>\n",
            " |  \n",
            " |  PA = <State.PA: 'PA'>\n",
            " |  \n",
            " |  PB = <State.PB: 'PB'>\n",
            " |  \n",
            " |  PE = <State.PE: 'PE'>\n",
            " |  \n",
            " |  PI = <State.PI: 'PI'>\n",
            " |  \n",
            " |  PR = <State.PR: 'PR'>\n",
            " |  \n",
            " |  RJ = <State.RJ: 'RJ'>\n",
            " |  \n",
            " |  RN = <State.RN: 'RN'>\n",
            " |  \n",
            " |  RO = <State.RO: 'RO'>\n",
            " |  \n",
            " |  RR = <State.RR: 'RR'>\n",
            " |  \n",
            " |  RS = <State.RS: 'RS'>\n",
            " |  \n",
            " |  SC = <State.SC: 'SC'>\n",
            " |  \n",
            " |  SE = <State.SE: 'SE'>\n",
            " |  \n",
            " |  SP = <State.SP: 'SP'>\n",
            " |  \n",
            " |  TO = <State.TO: 'TO'>\n",
            " |  \n",
            " |  ----------------------------------------------------------------------\n",
            " |  Data descriptors inherited from enum.Enum:\n",
            " |  \n",
            " |  name\n",
            " |      The name of the Enum member.\n",
            " |  \n",
            " |  value\n",
            " |      The value of the Enum member.\n",
            " |  \n",
            " |  ----------------------------------------------------------------------\n",
            " |  Readonly properties inherited from enum.EnumMeta:\n",
            " |  \n",
            " |  __members__\n",
            " |      Returns a mapping of member name->value.\n",
            " |      \n",
            " |      This mapping lists all enum members, including aliases. Note that this\n",
            " |      is a read-only view of the internal mapping.\n",
            "\n"
          ]
        }
      ],
      "source": [
        "help(State)"
      ]
    }
  ],
  "metadata": {
    "colab": {
      "provenance": [],
      "include_colab_link": true
    },
    "kernelspec": {
      "display_name": "Python 3",
      "name": "python3"
    },
    "language_info": {
      "codemirror_mode": {
        "name": "ipython",
        "version": 3
      },
      "file_extension": ".py",
      "mimetype": "text/x-python",
      "name": "python",
      "nbconvert_exporter": "python",
      "pygments_lexer": "ipython3",
      "version": "3.10.12"
    }
  },
  "nbformat": 4,
  "nbformat_minor": 0
}